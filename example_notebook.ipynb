{
 "cells": [
  {
   "cell_type": "code",
   "execution_count": 73,
   "metadata": {},
   "outputs": [],
   "source": [
    "import wings\n",
    "from wings.planner import Planner\n",
    "from wings.component import Component\n",
    "from wings.execution import Execution"
   ]
  },
  {
   "cell_type": "code",
   "execution_count": 74,
   "metadata": {},
   "outputs": [],
   "source": [
    "SERVER = \"http://localhost:9090/wings-portal\"\n",
    "INTERNAL_SERVER = SERVER"
   ]
  },
  {
   "cell_type": "code",
   "execution_count": 75,
   "metadata": {},
   "outputs": [],
   "source": [
    "USERID = \"admin\"\n",
    "PASSWORD = \"admin123\"\n",
    "DOMAIN = \"CaesarCypherParallel\""
   ]
  },
  {
   "cell_type": "code",
   "execution_count": 76,
   "metadata": {},
   "outputs": [],
   "source": [
    "TESTS = [\n",
    "    {\n",
    "        \"template\": \"CaesarCypherMap\",\n",
    "        \"inputs\": {\n",
    "            \"Document\": \"file:TwelveDaysOfChristmas.txt\",\n",
    "            \"ShiftKey\": 3,\n",
    "            \"numberOfChunks\": 4\n",
    "        },\n",
    "        \"outputs\": {\n",
    "            \"planner\": {\n",
    "                \"expansions\": [\n",
    "                    {\n",
    "                        \"components\": {\n",
    "                            \"breakDoc\": 1,\n",
    "                            \"Caesar\": 4\n",
    "                        },\n",
    "                        \"execute\": True\n",
    "                    }\n",
    "\n",
    "                ]\n",
    "            }\n",
    "        }\n",
    "    }\n",
    "]"
   ]
  },
  {
   "cell_type": "code",
   "execution_count": 77,
   "metadata": {},
   "outputs": [],
   "source": [
    "TESTS2 = [\n",
    "    {\n",
    "        \"template\": \"Test_Spectral\",\n",
    "        \"inputs\": {\n",
    "            \"InputTS\": \"file:test_perfect_signal.json\",\n",
    "            \"freq_method\": \"log\",\n",
    "            \"qs\": 0.95\n",
    "        },\n",
    "        \"outputs\": {\n",
    "            \"planner\": {\n",
    "                \"expansions\": [\n",
    "                    {\n",
    "                        \"components\": {\n",
    "                            \"cwt-psd\": 1,\n",
    "                            \"AR1sim\": 1\n",
    "                        },\n",
    "                        \"execute\": True\n",
    "                    },\n",
    "                    {\n",
    "                        \"components\": {\n",
    "                            \"MTM\": 1,\n",
    "                            \"AR1sim\": 1\n",
    "                        },\n",
    "                        \"execute\": True\n",
    "                    },\n",
    "                    {\n",
    "                        \"components\": {\n",
    "                            \"Welch\": 1,\n",
    "                            \"AR1sim\": 1\n",
    "                        },\n",
    "                        \"execute\": True\n",
    "                    },\n",
    "                    {\n",
    "                        \"components\": {\n",
    "                            \"Periodogram\": 1,\n",
    "                            \"AR1sim\": 1\n",
    "                        },\n",
    "                        \"execute\": True\n",
    "                    }\n",
    "                ]\n",
    "            }\n",
    "        }\n",
    "    },\n",
    "    {\n",
    "        \"template\": \"Test_Spectral\",\n",
    "        \"inputs\": {\n",
    "            \"InputTS\": \"file:test_noisy_signal.json\",\n",
    "            \"freq_method\": \"log\",\n",
    "            \"qs\": 0.95\n",
    "        },\n",
    "        \"outputs\": {\n",
    "            \"planner\": {\n",
    "                \"expansions\": [\n",
    "                    {\n",
    "                        \"components\": {\n",
    "                            \"wwz-psd\": 1,\n",
    "                            \"AR1sim\": 1\n",
    "                        },\n",
    "                        \"execute\": True\n",
    "                    },\n",
    "                    {\n",
    "                        \"components\": {\n",
    "                            \"LombScargle\": 1,\n",
    "                            \"AR1sim\": 1\n",
    "                        },\n",
    "                        \"execute\": True\n",
    "                    }\n",
    "                ]\n",
    "            }\n",
    "        }\n",
    "    },\n",
    "    {\n",
    "        \"template\": \"Test_Wavelet\",\n",
    "        \"inputs\": {\n",
    "            \"InputTS\": \"file:test_perfect_signal.json\",\n",
    "            \"freq_method\": \"log\",\n",
    "            \"qs\": 0.95\n",
    "        },\n",
    "        \"outputs\": {\n",
    "            \"planner\": {\n",
    "                \"expansions\": [\n",
    "                    {\n",
    "                        \"components\": {\n",
    "                            \"cwt\": 1,\n",
    "                            \"AR1sim-wave\": 1\n",
    "                        },\n",
    "                        \"execute\": True\n",
    "                    }\n",
    "                ]\n",
    "            }\n",
    "        }\n",
    "    },\n",
    "    {\n",
    "        \"template\": \"Test_Wavelet\",\n",
    "        \"inputs\": {\n",
    "            \"InputTS\": \"file:test_noisy_signal.json\",\n",
    "            \"freq_method\": \"log\",\n",
    "            \"qs\": 0.95\n",
    "        },\n",
    "        \"outputs\": {\n",
    "            \"planner\": {\n",
    "                \"expansions\": [\n",
    "                    {\n",
    "                        \"components\": {\n",
    "                            \"cwt\": 1,\n",
    "                            \"AR1sim-wave\": 1\n",
    "                        },\n",
    "                        \"execute\": True\n",
    "                    }\n",
    "                ]\n",
    "            }\n",
    "        }\n",
    "    }\n",
    "]"
   ]
  },
  {
   "cell_type": "code",
   "execution_count": 78,
   "metadata": {},
   "outputs": [],
   "source": [
    "def getTemplateComponents(expansion):\n",
    "    template = expansion[\"template\"]\n",
    "    components = {}\n",
    "    for nodeid in template[\"Nodes\"]:\n",
    "        cvarId = template[\"Nodes\"][nodeid][\"componentVariable\"][\"binding\"][\"id\"]\n",
    "        cvar = cvarId.split(\"#\")[-1]\n",
    "        cvarnum = components.get(cvar, 0)\n",
    "        cvarnum += 1\n",
    "        components[cvar] = cvarnum\n",
    "    return components"
   ]
  },
  {
   "cell_type": "code",
   "execution_count": 79,
   "metadata": {},
   "outputs": [],
   "source": [
    "def matches_test_expansion(expansion, test_expansions):\n",
    "    components = getTemplateComponents(expansion)\n",
    "    print(\"> \" + str(components))\n",
    "    for test_expansion in test_expansions:\n",
    "        if components == test_expansion[\"components\"]:\n",
    "            return test_expansion\n",
    "    return None"
   ]
  },
  {
   "cell_type": "code",
   "execution_count": 80,
   "metadata": {},
   "outputs": [],
   "source": [
    "api = wings.ApiClient(server=SERVER, username=USERID, password=PASSWORD)\n",
    "api.set_domain(DOMAIN)"
   ]
  },
  {
   "cell_type": "code",
   "execution_count": 81,
   "metadata": {},
   "outputs": [],
   "source": [
    "# Clean the Component Cache\n",
    "# FIXME: Not cleaning right now to avoid data pollution while testing\n",
    "# - Need a way to clean the test data after tests are done\n",
    "\n",
    "#components = Component(api)\n",
    "#components.increment_versions_clear_cache()"
   ]
  },
  {
   "cell_type": "code",
   "execution_count": 82,
   "metadata": {},
   "outputs": [
    {
     "name": "stdout",
     "output_type": "stream",
     "text": [
      "Testing template: CaesarCypherMap\n",
      "> Planning workflow expansions\n",
      "> Testing expansion\n",
      "> {'breakDoc': 1, 'Caesar': 4}\n",
      ">> Expanded workflow components match expected\n",
      ">> Submitting for execution\n"
     ]
    }
   ],
   "source": [
    "# Plan and check\n",
    "planner = Planner(api)\n",
    "for test in TESTS:\n",
    "    print(\"Testing template: \" + test['template'])\n",
    "    test_expansions = test[\"outputs\"][\"planner\"][\"expansions\"]\n",
    "\n",
    "    print(\"> Planning workflow expansions\")\n",
    "    planner.set_template(test[\"template\"])\n",
    "    plan = planner.get_expansions(test[\"inputs\"])\n",
    "    if plan[\"success\"]:\n",
    "        expansions = plan[\"data\"][\"templates\"]\n",
    "        seed = plan[\"data\"][\"seed\"]\n",
    "        if len(test_expansions) != len(expansions):\n",
    "            print(\">> FAILED: Expected %d expanded workflows, got %d\" % (len(test_expansions), len(expansions)))\n",
    "            continue\n",
    "\n",
    "        runids = []\n",
    "        for expansion in expansions:\n",
    "            print(\"> Testing expansion\")\n",
    "            test_expansion = matches_test_expansion(expansion, test_expansions)\n",
    "            if test_expansion is not None:\n",
    "                print(\">> Expanded workflow components match expected\")                \n",
    "                if \"execute\" in test_expansion and test_expansion[\"execute\"]:\n",
    "                    print(\">> Submitting for execution\")\n",
    "                    runid = planner.run_workflow(expansion, seed)\n",
    "                    runids.append(runid)\n",
    "            else:\n",
    "                print(\">> FAILED: Expanded workflow components do not match expected\")\n",
    "    else:\n",
    "        print(\">> FAILED: Planning failed\")\n",
    "        print(plan)\n"
   ]
  },
  {
   "cell_type": "code",
   "execution_count": 83,
   "metadata": {},
   "outputs": [
    {
     "name": "stdout",
     "output_type": "stream",
     "text": [
      "Checking CaesarCypherMap--71561b11-8704-4931-b4c1-42ed6705ee58\n",
      "RUNNING\n"
     ]
    }
   ],
   "source": [
    "execution_api = Execution(api)\n",
    "\n",
    "for runid in runids:\n",
    "    print(\"Checking \" + runid)\n",
    "    details = execution_api.get_run_details(runid)\n",
    "    run_status = details[\"execution\"][\"runtimeInfo\"][\"status\"]\n",
    "    # run_status should be \"SUCCESS\", or \"FAILURE\".. if \"RUNNING\" or \"QUEUED\", keep waiting\n",
    "    print(run_status) "
   ]
  },
  {
   "cell_type": "code",
   "execution_count": 84,
   "metadata": {},
   "outputs": [],
   "source": [
    "api.logout()"
   ]
  }
 ],
 "metadata": {
  "kernelspec": {
   "display_name": "Python 3.9.1 ('base')",
   "language": "python",
   "name": "python3"
  },
  "language_info": {
   "codemirror_mode": {
    "name": "ipython",
    "version": 3
   },
   "file_extension": ".py",
   "mimetype": "text/x-python",
   "name": "python",
   "nbconvert_exporter": "python",
   "pygments_lexer": "ipython3",
   "version": "3.9.1"
  },
  "orig_nbformat": 4,
  "vscode": {
   "interpreter": {
    "hash": "f4cdb1287e6b488985fcd8e1c3ff8942b066cc6385365a0713d0a056ce204230"
   }
  }
 },
 "nbformat": 4,
 "nbformat_minor": 2
}
