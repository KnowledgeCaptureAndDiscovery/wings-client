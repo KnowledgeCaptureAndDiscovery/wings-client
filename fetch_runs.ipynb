{
 "cells": [
  {
   "cell_type": "code",
   "execution_count": 27,
   "metadata": {},
   "outputs": [],
   "source": [
    "import wings\n",
    "from wings.execution import Execution\n",
    "from wings.data import Data"
   ]
  },
  {
   "cell_type": "code",
   "execution_count": 28,
   "metadata": {},
   "outputs": [],
   "source": [
    "import os.path\n",
    "import json\n",
    "import pandas as pd"
   ]
  },
  {
   "cell_type": "code",
   "execution_count": 2,
   "metadata": {},
   "outputs": [],
   "source": [
    "SERVER = \"https://datascience4all.org/wings-portal-new\"\n",
    "INTERNAL_SERVER = SERVER\n",
    "\n",
    "USERID = \"dkhider\"\n",
    "PASSWORD = \"dkhider123\"\n",
    "DOMAIN = \"PaleoTS\"\n",
    "\n",
    "CACHEDIR = \"cache\""
   ]
  },
  {
   "cell_type": "code",
   "execution_count": 3,
   "metadata": {},
   "outputs": [],
   "source": [
    "api = wings.ApiClient(server=SERVER, username=USERID, password=PASSWORD)\n",
    "api.set_domain(DOMAIN)"
   ]
  },
  {
   "cell_type": "code",
   "execution_count": 4,
   "metadata": {},
   "outputs": [],
   "source": [
    "execution_api = Execution(api)\n",
    "data_api = Data(api)"
   ]
  },
  {
   "cell_type": "code",
   "execution_count": 5,
   "metadata": {},
   "outputs": [],
   "source": [
    "execs = execution_api.list_executions_by_page(pattern=\"WaveletAnalysis*\")"
   ]
  },
  {
   "cell_type": "code",
   "execution_count": 59,
   "metadata": {},
   "outputs": [
    {
     "name": "stdout",
     "output_type": "stream",
     "text": [
      "1. Run id: WaveletAnalysis-42e8a086-2d1e-42aa-b5c1-d17583809c9c\n",
      "2. Run id: WaveletAnalysis-b50a3f10-638f-4c23-abcb-9914cbd03ea9\n",
      "3. Run id: WaveletAnalysis-7bb03c53-1e14-44fc-beb7-da985243d654\n",
      "4. Run id: WaveletAnalysis-811a4a16-478b-4942-ba14-8966d8976c36\n",
      "5. Run id: WaveletAnalysis-f91290e1-17c5-4ffd-97d9-b474877e5ec5\n",
      "6. Run id: WaveletAnalysis-ceb1f4eb-afe5-4b31-9212-01b3e3055745\n",
      "7. Run id: WaveletAnalysis-5b76181a-3586-4005-a1f4-16196f67c08b\n",
      "8. Run id: WaveletAnalysis-aa3cadd5-d258-48c1-884e-0baf70cc5546\n",
      "9. Run id: WaveletAnalysis-0de5e852-87af-49f1-b0ee-8e4be03df2be\n",
      "10. Run id: WaveletAnalysis-c1662039-5b3c-4d29-9c20-038288b193aa\n",
      "11. Run id: WaveletAnalysis-faacd461-c424-4e75-9eb1-20c4fc9f4f39\n",
      "12. Run id: WaveletAnalysis-e6a31d23-d9dc-4c0b-b9ec-e0828c0ebd5f\n",
      "13. Run id: WaveletAnalysis-b7eb007f-4768-49a4-8f94-05f67656ccb5\n",
      "14. Run id: WaveletAnalysis-a96563b0-7b9d-42fc-9d57-ef1182700d06\n",
      "15. Run id: WaveletAnalysis-55650abf-2381-46de-916f-431fc9cea2c8\n",
      "16. Run id: WaveletAnalysis-a4eda62b-6806-4d30-8b9f-bd852ebb9563\n",
      "17. Run id: WaveletAnalysis-1566390d-5a91-48d6-af79-25e16fdd8888\n",
      "18. Run id: WaveletAnalysis-3a9ebc98-0920-485f-adcc-b4b51a82bf6c\n",
      "19. Run id: WaveletAnalysis-3abfc572-7b3e-49af-92f7-80a974ad4a1f\n",
      "20. Run id: WaveletAnalysis-80f2e855-8633-4d01-b614-a841b0b03722\n",
      "21. Run id: WaveletAnalysis-a7baa197-ada1-4690-8f3b-b6ed361b11c3\n",
      "22. Run id: WaveletAnalysis-f478fc07-fcda-4d71-a529-79d40b89bdf1\n",
      "23. Run id: WaveletAnalysis-f686de7f-285f-42a7-a0d9-699ec36da470\n",
      "24. Run id: WaveletAnalysis-cdd7c7ed-6da0-41d1-92fe-a49105fe8208\n",
      "25. Run id: WaveletAnalysis-f4c640d3-81a2-41df-a6e0-4eb6b6fea349\n",
      "26. Run id: WaveletAnalysis-cc920e1e-c1b2-4352-b568-0478ee706884\n",
      "27. Run id: WaveletAnalysis-26f7f501-2a1b-4de9-b735-be749b8dc651\n",
      "28. Run id: WaveletAnalysis-28bd1274-b481-4e55-907c-156e5ecfebe4\n",
      "29. Run id: WaveletAnalysis-5847f023-b760-44d6-b6bb-6a1cd8ee1b5f\n",
      "30. Run id: WaveletAnalysis-de142f1c-565f-44b2-8dbc-e17ed70174da\n",
      "31. Run id: WaveletAnalysis-07eb17c9-e090-4280-b3fd-e910f36ccc6d\n",
      "32. Run id: WaveletAnalysis-2107a89f-f1c0-4019-90cb-0a7c60d97b6b\n",
      "33. Run id: WaveletAnalysis-a420da48-da8b-4928-9001-c2c69ca8e234\n",
      "34. Run id: WaveletAnalysis-686752de-79f5-4f0e-a3dc-64cff5a191fb\n",
      "35. Run id: WaveletAnalysis-cbb73ce3-c710-4985-bc7b-7bfc78202edf\n",
      "36. Run id: WaveletAnalysis-021c8b9b-09d3-419a-b8a8-d68fe191f297\n",
      "37. Run id: WaveletAnalysis-fcbc2da7-a28c-4394-9fd4-f8ec1f190bad\n",
      "38. Run id: WaveletAnalysis-27b1b034-b412-4333-9724-3ac130956a48\n",
      "39. Run id: WaveletAnalysis-9ca66b72-8c88-4ff6-b5aa-058a834a7950\n",
      "40. Run id: WaveletAnalysis-966fdb8c-6e53-4981-aa7a-ea9347f6532e\n",
      "41. Run id: WaveletAnalysis-6a6bc9e7-a8c3-48a0-9017-a6786b519e79\n",
      "42. Run id: WaveletAnalysis-3f32cba6-0e16-4089-b9aa-12ccf536fc9b\n",
      "43. Run id: WaveletAnalysis-fe41b320-fc17-4f65-b334-f915ad68b35c\n",
      "44. Run id: WaveletAnalysis-0ba5aa61-ddfa-464a-8919-1224dd336054\n",
      "45. Run id: WaveletAnalysis-6dc69abd-41e0-48da-a48f-ec3a1f4b5667\n",
      "46. Run id: WaveletAnalysis-7b5daa9b-afd9-4259-a38c-90facad04164\n",
      "47. Run id: WaveletAnalysis-46d90097-312e-4c5b-a366-0ba6df887d93\n",
      "48. Run id: WaveletAnalysis-c47b285a-a834-46cb-a230-51181d3b9a55\n",
      "49. Run id: WaveletAnalysis-093cfafd-e529-4ad1-9f70-764d348b4c27\n",
      "50. Run id: WaveletAnalysis-b13c43b5-80ba-4d72-be88-46e66ff8c1c2\n",
      "51. Run id: WaveletAnalysis-27cdc8a6-b33a-4803-8487-776b1360757e\n",
      "52. Run id: WaveletAnalysis-ba0cf649-b475-43bc-931c-5331e172332d\n",
      "53. Run id: WaveletAnalysis-bc58c179-2ae1-4eb9-b931-789aa4c6e308\n",
      "54. Run id: WaveletAnalysis-6a46fd66-c94e-4fd6-b0af-02e7b7d2b802\n",
      "55. Run id: WaveletAnalysis-9943ebec-ba95-40f9-9797-d8e514c4c3c8\n",
      "56. Run id: WaveletAnalysis-ed86ffb0-0a14-4bb9-ad7f-a2b28e1cab81\n",
      "57. Run id: WaveletAnalysis-1cdfa0b8-653c-4aa7-abd6-4f2f5d466e6a\n",
      "58. Run id: WaveletAnalysis-f7af017f-68cc-41dc-9358-cb07a8630f23\n",
      "59. Run id: WaveletAnalysis-23f9d4dd-aebd-4936-bc06-1935b0caedd3\n",
      "60. Run id: WaveletAnalysis-f005ac70-ecb2-4b26-9213-62cdbab734a2\n",
      "61. Run id: WaveletAnalysis-3f823c38-7111-4b7a-b028-5c4bfefdaa09\n",
      "62. Run id: WaveletAnalysis-bb69babd-2d6f-46f9-8f19-86aed7c32722\n",
      "63. Run id: WaveletAnalysis-b5b8e13f-00a2-4683-9939-d2a9c00a969e\n",
      "64. Run id: WaveletAnalysis-3ee0ec3e-555f-4489-a6a6-ae07f754ea77\n"
     ]
    }
   ],
   "source": [
    "full_execs = []\n",
    "if execs[\"success\"]:\n",
    "    for ex in execs[\"rows\"]:\n",
    "        runid = ex[\"id\"].split(\"#\")[1]\n",
    "        status = ex[\"runtimeInfo\"][\"status\"]\n",
    "        startTime = ex[\"runtimeInfo\"][\"startTime\"]\n",
    "        if status == \"SUCCESS\" and startTime > 1670853081:\n",
    "            print(str(len(full_execs) + 1) + \". Run id: \" + runid)\n",
    "            exec = execution_api.get_run_details(runid)\n",
    "            full_execs.append(exec)"
   ]
  },
  {
   "cell_type": "code",
   "execution_count": 60,
   "metadata": {},
   "outputs": [],
   "source": [
    "def get_execution_parameters(exec):\n",
    "    variables = exec[\"variables\"]\n",
    "    params = {}\n",
    "    for var in variables[\"input\"]:\n",
    "        if var[\"type\"] == 2:\n",
    "            vbinding = var[\"binding\"]\n",
    "            if vbinding[\"type\"] == \"literal\":\n",
    "                varname = var[\"id\"].split(\"#\")[1]\n",
    "                #dtype = vbinding[\"datatype\"].split(\"#\")[1]\n",
    "                value = vbinding[\"value\"]\n",
    "                params[varname] = value\n",
    "    return params"
   ]
  },
  {
   "cell_type": "code",
   "execution_count": 61,
   "metadata": {},
   "outputs": [],
   "source": [
    "def get_execution_files(exec, file_types=[], fetch_datasets_for_variables=[]):\n",
    "    variables = exec[\"variables\"]\n",
    "    files = {}\n",
    "    allvars = []\n",
    "\n",
    "    for file_type in file_types:\n",
    "        allvars += variables[file_type]\n",
    "    for var in allvars:\n",
    "        if var[\"type\"] == 1:\n",
    "            vbinding = var[\"binding\"]\n",
    "            if vbinding[\"type\"] == \"uri\":\n",
    "                varname = var[\"id\"].split(\"#\")[1]\n",
    "                location = None\n",
    "                dataid = vbinding[\"id\"]\n",
    "                dataname = dataid.split(\"#\")[1]\n",
    "                # Download datasets for variables if needed\n",
    "                if varname in fetch_datasets_for_variables:\n",
    "                    location = CACHEDIR + \"/\" + dataname\n",
    "                    if not os.path.exists(location):\n",
    "                        data_api.fetch_data(dataid, location)\n",
    "                    files[varname] = location\n",
    "    return files"
   ]
  },
  {
   "cell_type": "code",
   "execution_count": 75,
   "metadata": {},
   "outputs": [],
   "source": [
    "df = None\n",
    "all_rows = []\n",
    "for exec in full_execs:\n",
    "    steps = exec[\"execution\"][\"plan\"][\"steps\"]\n",
    "    cvalues = {}\n",
    "    for step in steps:\n",
    "        cname = step[\"codeBinding\"][\"codeDirectory\"].split(\"/\")[-1]\n",
    "        cvalues[cname] = True\n",
    "\n",
    "    params = get_execution_parameters(exec)\n",
    "    input_files = get_execution_files(exec, [\"input\"], [\"InputTS\"])\n",
    "    output_files = get_execution_files(exec, [\"intermediate\", \"output\"], [\"ClusterSummary\"])\n",
    "\n",
    "    row = dict(params)\n",
    "    row.update(input_files)\n",
    "    row.update(output_files)\n",
    "    row.update(cvalues)\n",
    "\n",
    "    if df is None:\n",
    "        df = pd.DataFrame()\n",
    "    \n",
    "    df = pd.concat([df, pd.DataFrame([row])], ignore_index=True)"
   ]
  },
  {
   "cell_type": "code",
   "execution_count": 82,
   "metadata": {},
   "outputs": [
    {
     "data": {
      "text/plain": [
       "0     cache/ClusterSummary-7aqanxrzccpx27waopwq2bxr7...\n",
       "2     cache/ClusterSummary-1tprq1cx13q7igz7crvzhu1po...\n",
       "3     cache/ClusterSummary-1tprq1cx13q7igz7crvzhu1po...\n",
       "4     cache/ClusterSummary-1tprq1cx13q7igz7crvzhu1po...\n",
       "5     cache/ClusterSummary-ed3zvvyr71pz92pksjl369stc...\n",
       "6     cache/ClusterSummary-em46yoh8r224n9ge9ua7zrmnc...\n",
       "7     cache/ClusterSummary-4sgvr7m8kqhbilm3yfsjqied0...\n",
       "8     cache/ClusterSummary-eybte1t1x6da0rpyhv5ue6qrb...\n",
       "16    cache/ClusterSummary-ed3zvvyr71pz92pksjl369stc...\n",
       "17    cache/ClusterSummary-em46yoh8r224n9ge9ua7zrmnc...\n",
       "18    cache/ClusterSummary-4sgvr7m8kqhbilm3yfsjqied0...\n",
       "19    cache/ClusterSummary-eybte1t1x6da0rpyhv5ue6qrb...\n",
       "20    cache/ClusterSummary-eqrxvui75w5x3yxpn4cdr3xrs...\n",
       "21    cache/ClusterSummary-3b8x1dp2jahsvp5di4mqtb2gp...\n",
       "22    cache/ClusterSummary-4sgvr7m8kqhbilm3yfsjqied0...\n",
       "23    cache/ClusterSummary-eybte1t1x6da0rpyhv5ue6qrb...\n",
       "24    cache/ClusterSummary-ed3zvvyr71pz92pksjl369stc...\n",
       "25    cache/ClusterSummary-em46yoh8r224n9ge9ua7zrmnc...\n",
       "26    cache/ClusterSummary-ddz2d2qagyh5w6guluvclpkbc...\n",
       "27    cache/ClusterSummary-5k0z4w82gz23mgq0als8h4nw3...\n",
       "28    cache/ClusterSummary-1thn979ldg4ydh5p2zo53vg1e...\n",
       "29    cache/ClusterSummary-1n6tj60mina62y3zv26d9sq4q...\n",
       "30     cache/ClusterSummary-7s9d8lgn2qarw53gtf18l1w.csv\n",
       "46    cache/ClusterSummary-1thn979ldg4ydh5p2zo53vg1e...\n",
       "47    cache/ClusterSummary-1n6tj60mina62y3zv26d9sq4q...\n",
       "48    cache/ClusterSummary-2yt7tmbnmxz785862z72czn45...\n",
       "49    cache/ClusterSummary-1thn979ldg4ydh5p2zo53vg1e...\n",
       "50    cache/ClusterSummary-14cdr6qn9d36spad6i42jbsel...\n",
       "51     cache/ClusterSummary-7s9d8lgn2qarw53gtf18l1w.csv\n",
       "52    cache/ClusterSummary-a5t89cb9qohe10q2feeuuba3c...\n",
       "53    cache/ClusterSummary-1n6tj60mina62y3zv26d9sq4q...\n",
       "54    cache/ClusterSummary-2yt7tmbnmxz785862z72czn45...\n",
       "Name: ClusterSummary, dtype: object"
      ]
     },
     "execution_count": 82,
     "metadata": {},
     "output_type": "execute_result"
    }
   ],
   "source": [
    "df.loc[df[\"cwt\"]==True][\"ClusterSummary\"]"
   ]
  }
 ],
 "metadata": {
  "kernelspec": {
   "display_name": "Python 3",
   "language": "python",
   "name": "python3"
  },
  "language_info": {
   "codemirror_mode": {
    "name": "ipython",
    "version": 3
   },
   "file_extension": ".py",
   "mimetype": "text/x-python",
   "name": "python",
   "nbconvert_exporter": "python",
   "pygments_lexer": "ipython3",
   "version": "3.9.1"
  },
  "orig_nbformat": 4,
  "vscode": {
   "interpreter": {
    "hash": "f4cdb1287e6b488985fcd8e1c3ff8942b066cc6385365a0713d0a056ce204230"
   }
  }
 },
 "nbformat": 4,
 "nbformat_minor": 2
}
